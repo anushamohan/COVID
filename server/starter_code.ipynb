{
 "cells": [
  {
   "cell_type": "code",
   "execution_count": 1,
   "metadata": {},
   "outputs": [],
   "source": [
    "#Utility\n",
    "import urllib\n",
    "import os\n",
    "import datetime\n",
    "\n",
    "#Data Science\n",
    "import pandas as pd\n",
    "import seaborn as sns\n",
    "import numpy as np\n",
    "import matplotlib.pyplot as plt\n",
    "\n",
    "#Google API\n",
    "import google.auth\n",
    "from google.cloud import bigquery\n",
    "from google.cloud import bigquery_storage_v1beta2"
   ]
  },
  {
   "cell_type": "markdown",
   "metadata": {},
   "source": [
    "## Mobility"
   ]
  },
  {
   "cell_type": "code",
   "execution_count": 2,
   "metadata": {},
   "outputs": [
    {
     "name": "stderr",
     "output_type": "stream",
     "text": [
      "C:\\Anaconda3\\lib\\site-packages\\IPython\\core\\interactiveshell.py:3051: DtypeWarning: Columns (3) have mixed types.Specify dtype option on import or set low_memory=False.\n",
      "  interactivity=interactivity, compiler=compiler, result=result)\n"
     ]
    }
   ],
   "source": [
    "#Import mobility from url\n",
    "url = 'https://www.gstatic.com/covid19/mobility/Global_Mobility_Report.csv'\n",
    "mobility = pd.read_csv(url)\n",
    "\n",
    "filterlist = ['retail_and_recreation_percent_change_from_baseline',\n",
    "'grocery_and_pharmacy_percent_change_from_baseline',\n",
    "'parks_percent_change_from_baseline',\n",
    "'transit_stations_percent_change_from_baseline',\n",
    "'workplaces_percent_change_from_baseline',\n",
    "'residential_percent_change_from_baseline']"
   ]
  },
  {
   "cell_type": "code",
   "execution_count": 3,
   "metadata": {},
   "outputs": [],
   "source": [
    "#Read usmobility into frame\n",
    "usmobility = pd.read_csv('usmobility.csv')"
   ]
  },
  {
   "cell_type": "markdown",
   "metadata": {},
   "source": [
    "## Cases from John Hopkins"
   ]
  },
  {
   "cell_type": "code",
   "execution_count": 9,
   "metadata": {
    "code_folding": []
   },
   "outputs": [],
   "source": [
    "#Import confirmed, deaths and recovered cases from url\n",
    "confirmed = pd.read_csv(\"https://raw.githubusercontent.com/CSSEGISandData/COVID-19/master/csse_covid_19_data/csse_covid_19_time_series/time_series_covid19_confirmed_US.csv\")\n",
    "deaths = pd.read_csv(\"https://raw.githubusercontent.com/CSSEGISandData/COVID-19/master/csse_covid_19_data/csse_covid_19_time_series/time_series_covid19_deaths_US.csv\")\n",
    "recovered = pd.read_csv(\"https://raw.githubusercontent.com/CSSEGISandData/COVID-19/master/csse_covid_19_data/csse_covid_19_time_series/time_series_covid19_recovered_global.csv\")"
   ]
  },
  {
   "cell_type": "code",
   "execution_count": 10,
   "metadata": {},
   "outputs": [],
   "source": [
    "#Formating confirmed as df ready for import for maindf\n",
    "df = confirmed.copy()\n",
    "xlist = ['UID', 'iso2', 'iso3', 'code3','Country_Region', 'Lat', 'Long_','Combined_Key']\n",
    "\n",
    "df['Lookup'] = df['Admin2'] + df['Province_State']\n",
    "includelist = [x for x in df.columns if x not in xlist]\n",
    "datelist = includelist.copy()\n",
    "datelist.pop(0)\n",
    "datelist.pop(0)\n",
    "datelist.remove('Lookup')\n",
    "df = df.loc[:,includelist]\n",
    "\n",
    "#Transpose and change index\n",
    "lookuplist = df['Lookup'].to_list()\n",
    "df = df.transpose()\n",
    "df.columns = lookuplist\n",
    "df = df.transpose()"
   ]
  },
  {
   "cell_type": "code",
   "execution_count": 11,
   "metadata": {},
   "outputs": [],
   "source": [
    "#Formating deaths as df1 ready for import for maindf\n",
    "df1 = deaths.copy()\n",
    "xlist = ['UID', 'iso2', 'iso3', 'code3','Country_Region', 'Lat', 'Long_','Combined_Key']\n",
    "\n",
    "df1['Lookup'] = df1['Admin2'] + df1['Province_State']\n",
    "includelist = [x for x in df1.columns if x not in xlist]\n",
    "datelist = includelist.copy()\n",
    "datelist.pop(0)\n",
    "datelist.pop(0)\n",
    "datelist.pop(0)\n",
    "datelist.pop(0)\n",
    "datelist.remove('Lookup')\n",
    "df1 = df1.loc[:,includelist]\n",
    "\n",
    "#Transpose and change index\n",
    "lookuplist = df1['Lookup'].to_list()\n",
    "df1 = df1.transpose()\n",
    "df1.columns = lookuplist\n",
    "df1 = df1.transpose()\n",
    "\n",
    "#Create a lookup list to loop over for maindf\n",
    "lookuplist = df1['Lookup'].value_counts().index.to_list()\n",
    "lookuplist = sorted(lookuplist)"
   ]
  },
  {
   "cell_type": "markdown",
   "metadata": {},
   "source": [
    "## Contructing Main Dataframe"
   ]
  },
  {
   "cell_type": "code",
   "execution_count": 12,
   "metadata": {},
   "outputs": [],
   "source": [
    "#Construction of maindf\n",
    "colnames = ['Lookup','State','County','FIPS','Population','Date','Confirmed','Deaths']\n",
    "\n",
    "maindf = pd.DataFrame(index=range(0,len(lookuplist)*len(datelist)), columns=colnames)\n",
    "\n",
    "#Start loop for confirmed\n",
    "j = 0\n",
    "for i in lookuplist:\n",
    "    testdf = df.loc[i,:]\n",
    "    testdf1 = df1.loc[i,:]\n",
    "    \n",
    "    #Confirmed cases\n",
    "    timeseries = testdf[3:-1]\n",
    "    date = timeseries.index.to_list()\n",
    "    timeseries = timeseries.to_list()\n",
    "    length = len(timeseries)\n",
    "    \n",
    "    #Deaths\n",
    "    timeseries1 = testdf1[4:-1].to_list()\n",
    "    \n",
    "    maindf.iloc[j:(j+length),colnames.index('Lookup')] = i\n",
    "    maindf.iloc[j:(j+length),colnames.index('State')] = testdf[2]\n",
    "    maindf.iloc[j:(j+length),colnames.index('County')] = testdf[1]\n",
    "    maindf.iloc[j:(j+length),colnames.index('FIPS')] = testdf[0]\n",
    "    maindf.iloc[j:(j+length),colnames.index('Population')] = testdf1[3]\n",
    "    maindf.iloc[j:(j+length),colnames.index('Date')] = date\n",
    "    maindf.iloc[j:(j+length),colnames.index('Confirmed')] = timeseries\n",
    "    maindf.iloc[j:(j+length),colnames.index('Deaths')] = timeseries1\n",
    "    j = j+length\n",
    "    \n",
    "maindf.loc[:,'Date1'] = pd.to_datetime(maindf['Date'],format='%m/%d/%y')\n",
    "#test = maindf['Date1'].astype(str).tolist()\n",
    "maindf['Lookup'] = maindf['Lookup'] + maindf['Date1'].astype(str).tolist()\n",
    "\n",
    "labels = maindf['Lookup'].to_list()\n",
    "maindf = maindf.transpose()\n",
    "maindf.columns = labels\n",
    "maindf = maindf.transpose()"
   ]
  },
  {
   "cell_type": "code",
   "execution_count": 34,
   "metadata": {},
   "outputs": [],
   "source": [
    "#Merge maindf and mobility to finaldf\n",
    "finaldf = maindf.merge(usmobility, left_on='Lookup', right_on='Lookup')\n",
    "finaldf['StateCounty']=finaldf['State'] + finaldf['County']\n",
    "finaldf['Confirmed'] = finaldf['Confirmed'].astype('int')\n",
    "finaldf['Pct_Increase_Confirmed'] = finaldf['Confirmed'].pct_change()*100"
   ]
  },
  {
   "cell_type": "code",
   "execution_count": 39,
   "metadata": {},
   "outputs": [
    {
     "name": "stdout",
     "output_type": "stream",
     "text": [
      "2\n"
     ]
    },
    {
     "data": {
      "image/png": "[encoded data removed]",
      "text/plain": [
       "<Figure size 432x288 with 1 Axes>"
      ]
     },
     "metadata": {
      "needs_background": "light"
     },
     "output_type": "display_data"
    },
    {
     "data": {
      "text/plain": [
       "<Figure size 432x288 with 0 Axes>"
      ]
     },
     "metadata": {},
     "output_type": "display_data"
    }
   ],
   "source": [
    "graph_county()"
   ]
  },
  {
   "cell_type": "code",
   "execution_count": 37,
   "metadata": {},
   "outputs": [],
   "source": [
    "def graph_county():\n",
    "    filterlist3 = filterlist.copy()\n",
    "    filterlist3.extend(['Date1','Confirmed','Pct_Increase_Confirmed'])\n",
    "    graphdf = finaldf[finaldf['County']=='San Francisco'].loc[:,filterlist3]\n",
    "\n",
    "    index = graphdf['Confirmed'].index.to_list()[0]\n",
    "    for i in graphdf['Confirmed']:\n",
    "        index += 1\n",
    "        if i != 0:\n",
    "            print(i)\n",
    "            break\n",
    "    index -= 2\n",
    "    #Get only days from the first case\n",
    "    graphdf = graphdf.loc[index:,:]\n",
    "\n",
    "    #Fill confirmed case increase rate\n",
    "    lst = []\n",
    "    j = 0\n",
    "    for i in graphdf['Confirmed']:\n",
    "        if i == 0:\n",
    "            lst.append(0)\n",
    "            j += 1\n",
    "        elif i != 0:\n",
    "            i = i/j\n",
    "            lst.append(i)\n",
    "            j += 1\n",
    "\n",
    "    graphdf['Confirmed_Increase_Rate'] = lst\n",
    "    \n",
    "    #Graph\n",
    "    ax = sns.lineplot(x='Date1',y='Confirmed_Increase_Rate',data=graphdf,label=\"Confirmed_Increase_Rate\")\n",
    "    ax.set(xlabel='Date', ylabel='Daily Cases')\n",
    "\n",
    "    for ind, label in enumerate(ax.get_xticklabels()):\n",
    "        if ind % 2 == 0:  # every nth label is kept\n",
    "            label.set_visible(True)\n",
    "        else:\n",
    "            label.set_visible(False)\n",
    "\n",
    "    plt.title('Average Daily Cases since First Confirmed Cases')\n",
    "    plt.legend(bbox_to_anchor=(1, 0), loc='lower left', ncol=1)\n",
    "    plt.show()\n",
    "    plt.clf()\n",
    "    #help(plt.legend)\n",
    "\n",
    "    displaymobility = graphdf.tail(1).loc[:,filterlist]\n",
    "    displaymobility = displaymobility.transpose()\n",
    "    displaymobility.columns = ['Value']\n",
    "    displaymobility"
   ]
  }
 ],
 "metadata": {
  "kernelspec": {
   "display_name": "Python 3",
   "language": "python",
   "name": "python3"
  },
  "language_info": {
   "codemirror_mode": {
    "name": "ipython",
    "version": 3
   },
   "file_extension": ".py",
   "mimetype": "text/x-python",
   "name": "python",
   "nbconvert_exporter": "python",
   "pygments_lexer": "ipython3",
   "version": "3.7.6"
  },
  "toc": {
   "base_numbering": 1,
   "nav_menu": {},
   "number_sections": true,
   "sideBar": true,
   "skip_h1_title": false,
   "title_cell": "Table of Contents",
   "title_sidebar": "Contents",
   "toc_cell": false,
   "toc_position": {},
   "toc_section_display": true,
   "toc_window_display": false
  },
  "varInspector": {
   "cols": {
    "lenName": 16,
    "lenType": 16,
    "lenVar": 40
   },
   "kernels_config": {
    "python": {
     "delete_cmd_postfix": "",
     "delete_cmd_prefix": "del ",
     "library": "var_list.py",
     "varRefreshCmd": "print(var_dic_list())"
    },
    "r": {
     "delete_cmd_postfix": ") ",
     "delete_cmd_prefix": "rm(",
     "library": "var_list.r",
     "varRefreshCmd": "cat(var_dic_list()) "
    }
   },
   "types_to_exclude": [
    "module",
    "function",
    "builtin_function_or_method",
    "instance",
    "_Feature"
   ],
   "window_display": false
  }
 },
 "nbformat": 4,
 "nbformat_minor": 4
}
